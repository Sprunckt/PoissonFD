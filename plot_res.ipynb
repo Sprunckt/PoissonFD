{
 "cells": [
  {
   "cell_type": "code",
   "execution_count": null,
   "metadata": {},
   "outputs": [],
   "source": [
    "import numpy as np\n",
    "import matplotlib.pyplot as plt\n",
    "\n",
    "# read output files : two concentric conductors, two regions with different permittivities\n",
    "data1 = np.loadtxt('computed_sol.txt')\n",
    "data2 = np.loadtxt('exact_sol.txt')\n",
    "\n",
    "print(data1.shape)\n",
    "xmin, xmax = -1, 1\n",
    "ymin, ymax = -1, 1\n",
    "# plot data\n",
    "fig, ax = plt.subplots(1, 3, figsize=(10, 5))\n",
    "ax[0].set_title('Computed solution')\n",
    "im1 = ax[0].imshow(data1, cmap='plasma', vmin=0, vmax=1, \n",
    "                   interpolation='none', origin='lower', extent=[xmin, xmax, ymin, ymax])\n",
    "ax[1].set_title('Exact solution')\n",
    "im2 = ax[1].imshow(data2, cmap='plasma', vmin=0, vmax=1, \n",
    "                   interpolation='none', origin='lower', extent=[xmin, xmax, ymin, ymax])\n",
    "im3 = ax[2].imshow(np.abs(data1-data2)/data2, cmap='cividis', vmax=0.1, vmin=0, \n",
    "                   interpolation='none', origin='lower', extent=[xmin, xmax, ymin, ymax])\n",
    "ax[2].set_title('Relative error')\n",
    "\n",
    "\n",
    "# plot the colorbar horizontally for each subplot\n",
    "# Add a colorbar under each axis\n",
    "cbar1 = fig.colorbar(im1, ax=ax[0], orientation='horizontal')\n",
    "cbar2 = fig.colorbar(im2, ax=ax[1], orientation='horizontal')\n",
    "cbar3 = fig.colorbar(im3, ax=ax[2], orientation='horizontal')\n",
    "plt.tight_layout()"
   ]
  }
 ],
 "metadata": {
  "kernelspec": {
   "display_name": "Python 3",
   "language": "python",
   "name": "python3"
  },
  "language_info": {
   "codemirror_mode": {
    "name": "ipython",
    "version": 3
   },
   "file_extension": ".py",
   "mimetype": "text/x-python",
   "name": "python",
   "nbconvert_exporter": "python",
   "pygments_lexer": "ipython3",
   "version": "3.8.10"
  },
  "orig_nbformat": 4,
  "vscode": {
   "interpreter": {
    "hash": "916dbcbb3f70747c44a77c7bcd40155683ae19c65e1c03b4aa3499c5328201f1"
   }
  }
 },
 "nbformat": 4,
 "nbformat_minor": 2
}
